{
  "cells": [
    {
      "cell_type": "markdown",
      "metadata": {
        "id": "view-in-github",
        "colab_type": "text"
      },
      "source": [
        "<a href=\"https://colab.research.google.com/github/spindouken/AlzheimersDeepLearning/blob/main/MRIALZ_DCGAN.ipynb\" target=\"_parent\"><img src=\"https://colab.research.google.com/assets/colab-badge.svg\" alt=\"Open In Colab\"/></a>"
      ]
    },
    {
      "cell_type": "code",
      "execution_count": null,
      "metadata": {
        "colab": {
          "base_uri": "https://localhost:8080/"
        },
        "id": "7-24pQFbJVsK",
        "outputId": "1434596c-4e48-48cc-b1f7-a812e9bf61b8"
      },
      "outputs": [
        {
          "name": "stdout",
          "output_type": "stream",
          "text": [
            "Drive already mounted at /content/drive; to attempt to forcibly remount, call drive.mount(\"/content/drive\", force_remount=True).\n"
          ]
        }
      ],
      "source": [
        "from google.colab import drive\n",
        "drive.mount('/content/drive')"
      ]
    },
    {
      "cell_type": "code",
      "execution_count": null,
      "metadata": {
        "colab": {
          "base_uri": "https://localhost:8080/"
        },
        "id": "-zFECLum8z0k",
        "outputId": "315b8986-b314-40ad-dd48-87d064070720"
      },
      "outputs": [
        {
          "name": "stdout",
          "output_type": "stream",
          "text": [
            "Requirement already satisfied: wandb in /usr/local/lib/python3.10/dist-packages (0.15.12)\n",
            "Requirement already satisfied: Click!=8.0.0,>=7.1 in /usr/local/lib/python3.10/dist-packages (from wandb) (8.1.7)\n",
            "Requirement already satisfied: GitPython!=3.1.29,>=1.0.0 in /usr/local/lib/python3.10/dist-packages (from wandb) (3.1.40)\n",
            "Requirement already satisfied: requests<3,>=2.0.0 in /usr/local/lib/python3.10/dist-packages (from wandb) (2.31.0)\n",
            "Requirement already satisfied: psutil>=5.0.0 in /usr/local/lib/python3.10/dist-packages (from wandb) (5.9.5)\n",
            "Requirement already satisfied: sentry-sdk>=1.0.0 in /usr/local/lib/python3.10/dist-packages (from wandb) (1.33.1)\n",
            "Requirement already satisfied: docker-pycreds>=0.4.0 in /usr/local/lib/python3.10/dist-packages (from wandb) (0.4.0)\n",
            "Requirement already satisfied: PyYAML in /usr/local/lib/python3.10/dist-packages (from wandb) (6.0.1)\n",
            "Requirement already satisfied: pathtools in /usr/local/lib/python3.10/dist-packages (from wandb) (0.1.2)\n",
            "Requirement already satisfied: setproctitle in /usr/local/lib/python3.10/dist-packages (from wandb) (1.3.3)\n",
            "Requirement already satisfied: setuptools in /usr/local/lib/python3.10/dist-packages (from wandb) (67.7.2)\n",
            "Requirement already satisfied: appdirs>=1.4.3 in /usr/local/lib/python3.10/dist-packages (from wandb) (1.4.4)\n",
            "Requirement already satisfied: protobuf!=4.21.0,<5,>=3.19.0 in /usr/local/lib/python3.10/dist-packages (from wandb) (3.20.3)\n",
            "Requirement already satisfied: six>=1.4.0 in /usr/local/lib/python3.10/dist-packages (from docker-pycreds>=0.4.0->wandb) (1.16.0)\n",
            "Requirement already satisfied: gitdb<5,>=4.0.1 in /usr/local/lib/python3.10/dist-packages (from GitPython!=3.1.29,>=1.0.0->wandb) (4.0.11)\n",
            "Requirement already satisfied: charset-normalizer<4,>=2 in /usr/local/lib/python3.10/dist-packages (from requests<3,>=2.0.0->wandb) (3.3.1)\n",
            "Requirement already satisfied: idna<4,>=2.5 in /usr/local/lib/python3.10/dist-packages (from requests<3,>=2.0.0->wandb) (3.4)\n",
            "Requirement already satisfied: urllib3<3,>=1.21.1 in /usr/local/lib/python3.10/dist-packages (from requests<3,>=2.0.0->wandb) (2.0.7)\n",
            "Requirement already satisfied: certifi>=2017.4.17 in /usr/local/lib/python3.10/dist-packages (from requests<3,>=2.0.0->wandb) (2023.7.22)\n",
            "Requirement already satisfied: smmap<6,>=3.0.1 in /usr/local/lib/python3.10/dist-packages (from gitdb<5,>=4.0.1->GitPython!=3.1.29,>=1.0.0->wandb) (5.0.1)\n"
          ]
        }
      ],
      "source": [
        "pip install wandb"
      ]
    },
    {
      "cell_type": "code",
      "execution_count": null,
      "metadata": {
        "id": "O5MXtFh636r7"
      },
      "outputs": [],
      "source": [
        "import os\n",
        "import numpy as np\n",
        "import cv2\n",
        "\n",
        "def load_and_preprocess_mri(data_directory):\n",
        "    class_folders = ['Mild_Demented', 'Moderate_Demented', 'Non_Demented', 'Very_Mild_Demented']\n",
        "    images = []\n",
        "\n",
        "    for folder in class_folders:\n",
        "        folder_path = os.path.join(data_directory, folder)\n",
        "        for img_name in os.listdir(folder_path):\n",
        "            img_path = os.path.join(folder_path, img_name)\n",
        "            img = cv2.imread(img_path, cv2.IMREAD_GRAYSCALE)\n",
        "            if img is not None:\n",
        "                img = (img - 127.5) / 127.5  # Normalizing the pixel values\n",
        "                images.append(img)\n",
        "\n",
        "    return np.array(images).reshape(-1, 128, 128, 1)\n"
      ]
    },
    {
      "cell_type": "code",
      "execution_count": null,
      "metadata": {
        "id": "49XT-Wqn-dEw"
      },
      "outputs": [],
      "source": [
        "config = {\n",
        "    'experiment': {\n",
        "        'experiment_type': 'baseline',\n",
        "        'log_directory': '/content/drive/MyDrive/MRIALZ_DCGAN/logs/'\n",
        "    },\n",
        "    'hyperparameters': {\n",
        "        'batch_size': 64,\n",
        "        'epochs': 80,\n",
        "        'noise_dim': 100,\n",
        "        'buffer_size': 6400,\n",
        "        'generator_learningRate': 0.00004,\n",
        "        'discriminator_learningRate': 0.00004,\n",
        "        'generatorOptimizer': 'Adam',\n",
        "        'discriminatorOptimizer': 'Adam',\n",
        "        'patience': 80\n",
        "    },\n",
        "    'data': {\n",
        "        'buffer_size': 6400,\n",
        "        'auto_tune_buffer': True\n",
        "    },\n",
        "    'logging': {\n",
        "        'image_save_interval': 1\n",
        "    },\n",
        "    'settings': {\n",
        "        'use_wandb': True,\n",
        "        'IMGExampleCount': 4\n",
        "    }\n",
        "}\n"
      ]
    },
    {
      "cell_type": "markdown",
      "metadata": {
        "id": "ysZBgKHGbbSO"
      },
      "source": [
        "Baseline"
      ]
    },
    {
      "cell_type": "code",
      "execution_count": null,
      "metadata": {
        "id": "ew7skWl34Vv5"
      },
      "outputs": [],
      "source": [
        "#!/usr/bin/env python3\n",
        "from tensorflow.keras import layers\n",
        "import tensorflow as tf\n",
        "\n",
        "# why does the filter count decrease with each layer in GAN?\n",
        "# imagine you're painting a picture, you start with a rough sketch of broad strokes and general shapes (high-level features),\n",
        "#   then you add more and more detail and refine the picture (low-level features), however you don't need as many strokes to add detail\n",
        "# each higher resolution layer adds finer details, and you might not need as many feature maps as in the lower\n",
        "def build_generator():\n",
        "    model = tf.keras.Sequential([\n",
        "        layers.Dense(8*8*512, use_bias=False, input_shape=(100,)),\n",
        "        layers.BatchNormalization(),\n",
        "        layers.LeakyReLU(),\n",
        "        layers.Reshape((8, 8, 512)),\n",
        "\n",
        "        layers.Conv2DTranspose(256, (5, 5), strides=(2, 2), padding='same', use_bias=False),\n",
        "        layers.BatchNormalization(),\n",
        "        layers.LeakyReLU(),\n",
        "\n",
        "        layers.Conv2DTranspose(128, (5, 5), strides=(2, 2), padding='same', use_bias=False),\n",
        "        layers.BatchNormalization(),\n",
        "        layers.LeakyReLU(),\n",
        "\n",
        "        layers.Conv2DTranspose(64, (5, 5), strides=(2, 2), padding='same', use_bias=False),\n",
        "        layers.BatchNormalization(),\n",
        "        layers.LeakyReLU(),\n",
        "\n",
        "        layers.Conv2DTranspose(1, (5, 5), strides=(2, 2), padding='same', use_bias=False, activation='tanh')  # Change here\n",
        "    ])\n",
        "    return model\n",
        "\n",
        "def build_discriminator():\n",
        "    model = tf.keras.Sequential([\n",
        "        layers.Conv2D(64, (5, 5), strides=(2, 2), padding='same', input_shape=[128, 128, 1]),\n",
        "        layers.LeakyReLU(),\n",
        "        layers.Dropout(0.3),\n",
        "\n",
        "        layers.Conv2D(128, (5, 5), strides=(2, 2), padding='same'),\n",
        "        layers.LeakyReLU(),\n",
        "        layers.Dropout(0.3),\n",
        "\n",
        "        layers.Conv2D(256, (5, 5), strides=(2, 2), padding='same'),\n",
        "        layers.LeakyReLU(),\n",
        "        layers.Dropout(0.3),\n",
        "\n",
        "        layers.Conv2D(512, (5, 5), strides=(2, 2), padding='same'),\n",
        "        layers.LeakyReLU(),\n",
        "        layers.Dropout(0.3),\n",
        "\n",
        "        layers.Flatten(),\n",
        "        layers.Dense(1)\n",
        "    ])\n",
        "    return model\n",
        "\n"
      ]
    },
    {
      "cell_type": "markdown",
      "metadata": {
        "id": "2fSyxs6ubdwD"
      },
      "source": [
        "Expanded Architecture"
      ]
    },
    {
      "cell_type": "code",
      "execution_count": null,
      "metadata": {
        "id": "sQIvcRvxbTwd"
      },
      "outputs": [],
      "source": [
        "#!/usr/bin/env python3\n",
        "from tensorflow.keras import layers, Model\n",
        "import tensorflow as tf\n",
        "\n",
        "def residual_block(x, filters, kernel_size=3, stride=1, activation=\"leakyrelu\"):\n",
        "    shortcut = x\n",
        "    x = layers.Conv2DTranspose(filters, kernel_size=kernel_size, strides=stride, padding=\"same\", use_bias=False)(x)\n",
        "    x = layers.BatchNormalization()(x)\n",
        "\n",
        "    if activation == \"leakyrelu\":\n",
        "        x = layers.LeakyReLU()(x)\n",
        "    else:\n",
        "        x = layers.Activation(activation)(x)\n",
        "\n",
        "    x = layers.Conv2DTranspose(filters, kernel_size=kernel_size, strides=stride, padding=\"same\", use_bias=False)(x)\n",
        "    x = layers.BatchNormalization()(x)\n",
        "\n",
        "    x = layers.Add()([shortcut, x])\n",
        "    return x\n",
        "\n",
        "def build_generator():\n",
        "    input_tensor = layers.Input(shape=(100,))\n",
        "\n",
        "    x = layers.Dense(8*8*512, use_bias=False)(input_tensor)\n",
        "    x = layers.BatchNormalization()(x)\n",
        "    x = layers.LeakyReLU()(x)\n",
        "    x = layers.Reshape((8, 8, 512))(x)\n",
        "\n",
        "    x = layers.Conv2DTranspose(256, (5, 5), strides=(2, 2), padding='same', use_bias=False)(x)\n",
        "    x = layers.BatchNormalization()(x)\n",
        "    x = layers.LeakyReLU()(x)\n",
        "    x = residual_block(x, 256)\n",
        "\n",
        "    x = layers.Conv2DTranspose(128, (5, 5), strides=(2, 2), padding='same', use_bias=False)(x)\n",
        "    x = layers.BatchNormalization()(x)\n",
        "    x = layers.LeakyReLU()(x)\n",
        "    x = residual_block(x, 128)\n",
        "\n",
        "    x = layers.Conv2DTranspose(64, (5, 5), strides=(2, 2), padding='same', use_bias=False)(x)\n",
        "    x = layers.BatchNormalization()(x)\n",
        "    x = layers.LeakyReLU()(x)\n",
        "    x = residual_block(x, 64)\n",
        "\n",
        "    output_tensor = layers.Conv2DTranspose(1, (5, 5), strides=(2, 2), padding='same', use_bias=False, activation='tanh')(x)\n",
        "\n",
        "    model = Model(input_tensor, output_tensor)\n",
        "    return model\n",
        "\n",
        "def build_discriminator():\n",
        "    input_tensor = layers.Input(shape=[128, 128, 1])\n",
        "\n",
        "    x = layers.Conv2D(64, (5, 5), strides=(2, 2), padding='same')(input_tensor)\n",
        "    x = layers.LeakyReLU()(x)\n",
        "    x = layers.Dropout(0.3)(x)\n",
        "\n",
        "    x = layers.Conv2D(128, (5, 5), strides=(2, 2), padding='same')(x)\n",
        "    x = layers.LeakyReLU()(x)\n",
        "    x = layers.Dropout(0.3)(x)\n",
        "\n",
        "    x = layers.Conv2D(256, (5, 5), strides=(2, 2), padding='same')(x)\n",
        "    x = layers.LeakyReLU()(x)\n",
        "    x = layers.Dropout(0.3)(x)\n",
        "\n",
        "    x = layers.Conv2D(512, (5, 5), strides=(2, 2), padding='same')(x)\n",
        "    x = layers.LeakyReLU()(x)\n",
        "    x = layers.Dropout(0.3)(x)\n",
        "\n",
        "    x = layers.Flatten()(x)\n",
        "    output_tensor = layers.Dense(1)(x)\n",
        "\n",
        "    model = Model(input_tensor, output_tensor)\n",
        "    return model\n"
      ]
    },
    {
      "cell_type": "code",
      "execution_count": null,
      "metadata": {
        "id": "FrtBbr9q-O4H"
      },
      "outputs": [],
      "source": [
        "#!/usr/bin/env python3\n",
        "import matplotlib.pyplot as plt\n",
        "import os\n",
        "import numpy as np\n",
        "import yaml\n",
        "from datetime import datetime\n",
        "import pytz\n",
        "\n",
        "\n",
        "USE_WANDB = config[\"settings\"][\"use_wandb\"]\n",
        "IMGExampleCount = config[\"settings\"][\"IMGExampleCount\"]\n",
        "experiment_type = config[\"experiment\"][\"experiment_type\"]\n",
        "\n",
        "\n",
        "os.makedirs(\"/content/drive/MyDrive/MRIALZ_DCGAN/images\", exist_ok=True)\n",
        "\n",
        "# timestamp stuff\n",
        "central = pytz.timezone('America/Chicago')\n",
        "utc_now = datetime.now(pytz.utc)\n",
        "dt = utc_now.astimezone(central)\n",
        "timestamp = dt.strftime('%Y-%m-%d_%H-%M-%S')\n",
        "\n",
        "# images will be saved in folders according to time of run\n",
        "folder_name = f\"{experiment_type}_{timestamp}\"\n",
        "image_save_path = f\"/content/drive/MyDrive/MRIALZ_DCGAN/images/{folder_name}/\"\n",
        "\n",
        "if not os.path.exists(image_save_path):\n",
        "    os.makedirs(image_save_path)\n",
        "\n",
        "\n",
        "def generateTrainingImages(model, epoch, test_input):\n",
        "    predictions = model(test_input, training=False)\n",
        "    predictions = (predictions + 1) / 2.0\n",
        "\n",
        "    grid_size = int(np.sqrt(IMGExampleCount))\n",
        "    fig = plt.figure(figsize=(grid_size * 2, grid_size * 2))\n",
        "\n",
        "    for i in range(IMGExampleCount):\n",
        "        plt.subplot(grid_size, grid_size, i + 1)\n",
        "        plt.imshow(predictions[i, :, :, 0] * 127.5 + 127.5, cmap=\"gray\")\n",
        "        plt.axis(\"off\")\n",
        "\n",
        "    file_name = f\"image_at_epoch_{epoch:04d}.png\"\n",
        "    file_path = os.path.join(image_save_path, file_name)\n",
        "\n",
        "    plt.savefig(f\"{image_save_path}image_at_epoch_{epoch:04d}.png\")\n",
        "    plt.close(fig)\n",
        "\n",
        "    if USE_WANDB:\n",
        "        import wandb\n",
        "        wandb.log({\"Generated Images\": [wandb.Image(file_path)]})\n"
      ]
    },
    {
      "cell_type": "code",
      "execution_count": null,
      "metadata": {
        "colab": {
          "background_save": true,
          "base_uri": "https://localhost:8080/",
          "height": 600,
          "referenced_widgets": [
            "74805fd756b24a5e8e656cd5e39de4bf",
            "b63491d5e85045988a618c2b59084dad",
            "c4cf11de89c047fba71ade3e26d07e3e",
            "fa834ec6fc0148e895c8e139c4f696d3",
            "dadb321bdedf4e94afa6f377fe6081f7",
            "baceead9aa534fd59f4aae5bf68625ec",
            "3d063af741a744769b0fc321d7e24b4b",
            "e9afb1dc8d67482f8a6f74dcc3e19150"
          ]
        },
        "id": "0T0G_qQo5120",
        "outputId": "2c69a2f8-d536-4aca-92e6-03ba5a275d87"
      },
      "outputs": [
        {
          "data": {
            "text/html": [
              "Finishing last run (ID:jrzz2kkv) before initializing another..."
            ],
            "text/plain": [
              "<IPython.core.display.HTML object>"
            ]
          },
          "metadata": {},
          "output_type": "display_data"
        },
        {
          "data": {
            "text/html": [
              "Waiting for W&B process to finish... <strong style=\"color:green\">(success).</strong>"
            ],
            "text/plain": [
              "<IPython.core.display.HTML object>"
            ]
          },
          "metadata": {},
          "output_type": "display_data"
        },
        {
          "data": {
            "application/vnd.jupyter.widget-view+json": {
              "model_id": "74805fd756b24a5e8e656cd5e39de4bf",
              "version_major": 2,
              "version_minor": 0
            },
            "text/plain": [
              "VBox(children=(Label(value='1.731 MB of 1.731 MB uploaded (0.000 MB deduped)\\r'), FloatProgress(value=1.0, max…"
            ]
          },
          "metadata": {},
          "output_type": "display_data"
        },
        {
          "data": {
            "text/html": [
              "<style>\n",
              "    table.wandb td:nth-child(1) { padding: 0 10px; text-align: left ; width: auto;} td:nth-child(2) {text-align: left ; width: 100%}\n",
              "    .wandb-row { display: flex; flex-direction: row; flex-wrap: wrap; justify-content: flex-start; width: 100% }\n",
              "    .wandb-col { display: flex; flex-direction: column; flex-basis: 100%; flex: 1; padding: 10px; }\n",
              "    </style>\n",
              "<div class=\"wandb-row\"><div class=\"wandb-col\"><h3>Run history:</h3><br/><table class=\"wandb\"><tr><td>avg_disc_accuracy</td><td>█▅▄▂▃▂▂▂▁▁▁▁▂▁▁▁▁▁▁▁</td></tr><tr><td>avg_disc_loss</td><td>▁▅▅█▆▇█▇█▇▇▇▇██▇█▇█▇</td></tr><tr><td>avg_gen_accuracy</td><td>▂▆▆█▃▄▅▂▂▂▂▂▂▃▂▁▁▁▁▁</td></tr><tr><td>avg_gen_loss</td><td>█▄▄▁▂▂▁▁▁▁▁▁▁▁▁▁▁▁▁▁</td></tr><tr><td>batch_disc_accuracy</td><td>██▄▆▇▃▅▁▄▄▃▂▂▂▃▃▂▂▂▂▂▂▂▂▃▂▃▂▂▂▂▂▂▂▂▂▂▂▂▂</td></tr><tr><td>batch_disc_loss</td><td>▃▁▅▄▃▆▅█▅▅▅▆▆▆▆▆▆▆▆▆▆▆▆▆▅▆▆▆▆▇▆▆▆▆▆▆▆▆▆▆</td></tr><tr><td>batch_gen_accuracy</td><td>▁▁▃▂▁▃▃█▁▁▁▆▅▄▂▁▄▂▂▂▂▁▁▂▁▁▁▃▁▃▁▁▁▁▁▁▁▁▁▁</td></tr><tr><td>batch_gen_loss</td><td>▁█▄▃▆▃▃▁▄▃▅▁▁▂▂▂▁▂▂▂▃▂▂▂▃▂▂▁▂▁▂▂▂▂▂▂▂▂▂▂</td></tr><tr><td>epoch</td><td>▁▁▂▂▂▃▃▄▄▄▅▅▅▆▆▇▇▇██</td></tr></table><br/></div><div class=\"wandb-col\"><h3>Run summary:</h3><br/><table class=\"wandb\"><tr><td>avg_disc_accuracy</td><td>0.50187</td></tr><tr><td>avg_disc_loss</td><td>1.36961</td></tr><tr><td>avg_gen_accuracy</td><td>0.00016</td></tr><tr><td>avg_gen_loss</td><td>0.70557</td></tr><tr><td>batch_disc_accuracy</td><td>0.5</td></tr><tr><td>batch_disc_loss</td><td>1.42224</td></tr><tr><td>batch_gen_accuracy</td><td>0.0</td></tr><tr><td>batch_gen_loss</td><td>0.64256</td></tr><tr><td>epoch</td><td>19</td></tr><tr><td>experiment_type</td><td>baseline</td></tr></table><br/></div></div>"
            ],
            "text/plain": [
              "<IPython.core.display.HTML object>"
            ]
          },
          "metadata": {},
          "output_type": "display_data"
        },
        {
          "data": {
            "text/html": [
              " View run <strong style=\"color:#cdcd00\">dcgan_run_baseline</strong> at: <a href='https://wandb.ai/spindouken/mrialz_dcgan/runs/jrzz2kkv' target=\"_blank\">https://wandb.ai/spindouken/mrialz_dcgan/runs/jrzz2kkv</a><br/>Synced 5 W&B file(s), 20 media file(s), 0 artifact file(s) and 0 other file(s)"
            ],
            "text/plain": [
              "<IPython.core.display.HTML object>"
            ]
          },
          "metadata": {},
          "output_type": "display_data"
        },
        {
          "data": {
            "text/html": [
              "Find logs at: <code>./wandb/run-20231102_062923-jrzz2kkv/logs</code>"
            ],
            "text/plain": [
              "<IPython.core.display.HTML object>"
            ]
          },
          "metadata": {},
          "output_type": "display_data"
        },
        {
          "data": {
            "text/html": [
              "Successfully finished last run (ID:jrzz2kkv). Initializing new run:<br/>"
            ],
            "text/plain": [
              "<IPython.core.display.HTML object>"
            ]
          },
          "metadata": {},
          "output_type": "display_data"
        },
        {
          "data": {
            "text/html": [
              "Tracking run with wandb version 0.15.12"
            ],
            "text/plain": [
              "<IPython.core.display.HTML object>"
            ]
          },
          "metadata": {},
          "output_type": "display_data"
        },
        {
          "data": {
            "text/html": [
              "Run data is saved locally in <code>/content/wandb/run-20231102_064242-bzc8huco</code>"
            ],
            "text/plain": [
              "<IPython.core.display.HTML object>"
            ]
          },
          "metadata": {},
          "output_type": "display_data"
        },
        {
          "data": {
            "text/html": [
              "Syncing run <strong><a href='https://wandb.ai/spindouken/mrialz_dcgan/runs/bzc8huco' target=\"_blank\">dcgan_run_baseline</a></strong> to <a href='https://wandb.ai/spindouken/mrialz_dcgan' target=\"_blank\">Weights & Biases</a> (<a href='https://wandb.me/run' target=\"_blank\">docs</a>)<br/>"
            ],
            "text/plain": [
              "<IPython.core.display.HTML object>"
            ]
          },
          "metadata": {},
          "output_type": "display_data"
        },
        {
          "data": {
            "text/html": [
              " View project at <a href='https://wandb.ai/spindouken/mrialz_dcgan' target=\"_blank\">https://wandb.ai/spindouken/mrialz_dcgan</a>"
            ],
            "text/plain": [
              "<IPython.core.display.HTML object>"
            ]
          },
          "metadata": {},
          "output_type": "display_data"
        },
        {
          "data": {
            "text/html": [
              " View run at <a href='https://wandb.ai/spindouken/mrialz_dcgan/runs/bzc8huco' target=\"_blank\">https://wandb.ai/spindouken/mrialz_dcgan/runs/bzc8huco</a>"
            ],
            "text/plain": [
              "<IPython.core.display.HTML object>"
            ]
          },
          "metadata": {},
          "output_type": "display_data"
        },
        {
          "name": "stderr",
          "output_type": "stream",
          "text": [
            "Epoch 80, Avg Gen Loss: 0.9114328026771545, Avg Disc Loss: 1.2007943391799927: 100%|██████████| 80/80 [33:24<00:00, 25.05s/it]\n"
          ]
        }
      ],
      "source": [
        "#!/usr/bin/env python3\n",
        "import tensorflow as tf\n",
        "from tqdm import tqdm\n",
        "import pytz\n",
        "import os\n",
        "import yaml\n",
        "import logging\n",
        "\n",
        "\n",
        "BATCH_SIZE = config['hyperparameters']['batch_size']\n",
        "EPOCHS = config['hyperparameters']['epochs']\n",
        "NOISE_DIM = config['hyperparameters']['noise_dim']\n",
        "BUFFER_SIZE = config['data']['buffer_size']\n",
        "USE_WANDB = config['settings']['use_wandb']\n",
        "IMGExampleCount = config['settings']['IMGExampleCount']\n",
        "IMAGE_SAVE_INTERVAL = config['logging']['image_save_interval']\n",
        "\n",
        "\n",
        "log_directory = config['experiment']['log_directory']\n",
        "if not os.path.exists(log_directory):\n",
        "    os.makedirs(log_directory)\n",
        "logging.basicConfig(\n",
        "    filename=os.path.join(log_directory, 'training.log'),\n",
        "    level=logging.INFO,\n",
        "    format='%(asctime)s [%(levelname)s] - %(message)s',  # This will include the timestamp\n",
        "    datefmt='%Y-%m-%d %H:%M:%S'  # Format of the timestamp\n",
        ")\n",
        "\n",
        "\n",
        "generator_learningRate = config['hyperparameters']['generator_learningRate']\n",
        "discriminator_learningRate = config['hyperparameters']['discriminator_learningRate']\n",
        "generator_optimizer = getattr(tf.keras.optimizers, config['hyperparameters']['generatorOptimizer'])(generator_learningRate)\n",
        "discriminator_optimizer = getattr(tf.keras.optimizers, config['hyperparameters']['discriminatorOptimizer'])(discriminator_learningRate)\n",
        "patience = config['hyperparameters']['patience']\n",
        "patience_counter = 0\n",
        "experiment_type = config['experiment']['experiment_type']\n",
        "\n",
        "\n",
        "if USE_WANDB:\n",
        "    import wandb\n",
        "    wandb.init(project='mrialz_dcgan', name=f'dcgan_run_{experiment_type}', config=config)\n",
        "\n",
        "train_images = load_and_preprocess_mri('/content/drive/MyDrive/MRIALZ_DCGAN/Dataset')\n",
        "train_dataset = tf.data.Dataset.from_tensor_slices(train_images).shuffle(BUFFER_SIZE).batch(BATCH_SIZE)\n",
        "AUTOTUNE = tf.data.experimental.AUTOTUNE\n",
        "train_dataset = train_dataset.prefetch(buffer_size=AUTOTUNE)\n",
        "\n",
        "generator = build_generator()\n",
        "discriminator = build_discriminator()\n",
        "\n",
        "cross_entropy = tf.keras.losses.BinaryCrossentropy(from_logits=True)\n",
        "\n",
        "def train_step(images, step):\n",
        "    noise = tf.random.normal([BATCH_SIZE, NOISE_DIM])\n",
        "\n",
        "    with tf.GradientTape() as gen_tape, tf.GradientTape() as disc_tape:\n",
        "        generated_images = generator(noise, training=True)\n",
        "\n",
        "        real_output = discriminator(images, training=True)\n",
        "        fake_output = discriminator(generated_images, training=True)\n",
        "\n",
        "        gen_loss = cross_entropy(tf.ones_like(fake_output), fake_output)\n",
        "        disc_loss = cross_entropy(tf.ones_like(real_output), real_output) + cross_entropy(tf.zeros_like(fake_output), fake_output)\n",
        "\n",
        "    real_accuracy = tf.reduce_mean(tf.cast(tf.math.greater_equal(real_output, 0.5), tf.float32))\n",
        "    fake_accuracy = tf.reduce_mean(tf.cast(tf.math.less(fake_output, 0.5), tf.float32))\n",
        "    disc_accuracy = (real_accuracy + fake_accuracy) / 2.0\n",
        "    gen_accuracy = tf.reduce_mean(tf.cast(tf.math.greater_equal(fake_output, 0.5), tf.float32))\n",
        "\n",
        "    gradients_of_generator = gen_tape.gradient(gen_loss, generator.trainable_variables)\n",
        "    gradients_of_discriminator = disc_tape.gradient(disc_loss, discriminator.trainable_variables)\n",
        "\n",
        "    generator_optimizer.apply_gradients(zip(gradients_of_generator, generator.trainable_variables))\n",
        "    discriminator_optimizer.apply_gradients(zip(gradients_of_discriminator, discriminator.trainable_variables))\n",
        "\n",
        "    return gen_loss, disc_loss, gen_accuracy, disc_accuracy\n",
        "\n",
        "test_input = tf.random.normal([IMGExampleCount, NOISE_DIM])\n",
        "# to track loss and accuracy\n",
        "cumulative_gen_loss = 0.0\n",
        "cumulative_disc_loss = 0.0\n",
        "cumulative_gen_accuracy = 0.0\n",
        "cumulative_disc_accuracy = 0.0\n",
        "num_steps = 0\n",
        "\n",
        "pbar = tqdm(range(EPOCHS))\n",
        "\n",
        "# early stopping\n",
        "best_loss = float('inf')\n",
        "patience_counter = 0\n",
        "\n",
        "for epoch in pbar:\n",
        "    cumulative_gen_loss = 0.0\n",
        "    cumulative_disc_loss = 0.0\n",
        "    cumulative_gen_accuracy = 0.0\n",
        "    cumulative_disc_accuracy = 0.0\n",
        "    num_steps = 0\n",
        "\n",
        "    for step, image_batch in enumerate(train_dataset):\n",
        "        # training\n",
        "        gen_loss, disc_loss, gen_acc, disc_acc = train_step(image_batch, step)\n",
        "        cumulative_gen_loss += gen_loss\n",
        "        cumulative_disc_loss += disc_loss\n",
        "        cumulative_gen_accuracy += gen_acc\n",
        "        cumulative_disc_accuracy += disc_acc\n",
        "        num_steps += 1\n",
        "\n",
        "        # log metrics for this batch\n",
        "        if USE_WANDB:\n",
        "            wandb.log({\"batch_gen_loss\": gen_loss.numpy(),\n",
        "                    \"batch_disc_loss\": disc_loss.numpy(),\n",
        "                    \"batch_gen_accuracy\": gen_acc.numpy(),\n",
        "                    \"batch_disc_accuracy\": disc_acc.numpy()})\n",
        "\n",
        "    avg_gen_loss = cumulative_gen_loss / num_steps\n",
        "    avg_disc_loss = cumulative_disc_loss / num_steps\n",
        "    avg_gen_accuracy = cumulative_gen_accuracy / num_steps\n",
        "    avg_disc_accuracy = cumulative_disc_accuracy / num_steps\n",
        "\n",
        "    # early stopping\n",
        "    if avg_gen_loss < best_loss:\n",
        "        best_loss = avg_gen_loss\n",
        "        patience_counter = 0\n",
        "    else:\n",
        "        patience_counter += 1\n",
        "        if patience_counter > patience:\n",
        "            logging.info(\"Early stopping triggered.\")\n",
        "            print(\"Early stopping triggered. Training has been halted.\")\n",
        "            break\n",
        "\n",
        "\n",
        "\n",
        "    logging.info(f\"Experiment Type: {experiment_type}, Epoch {epoch+1}, Avg Gen Loss: {avg_gen_loss}, Avg Disc Loss: {avg_disc_loss}\")\n",
        "\n",
        "    # log metrics for the epoch on wandb\n",
        "    if USE_WANDB:\n",
        "        wandb.log({\"epoch\": epoch, \"avg_gen_loss\": avg_gen_loss, \"avg_disc_loss\": avg_disc_loss, \"avg_gen_accuracy\": avg_gen_accuracy, \"avg_disc_accuracy\": avg_disc_accuracy, \"experiment_type\": experiment_type})\n",
        "    else:\n",
        "        print(f\"Epoch {epoch+1}, Avg Gen Loss: {avg_gen_loss}, Avg Disc Loss: {avg_disc_loss}, Avg Gen Accuracy: {avg_gen_accuracy}, Avg Disc Accuracy: {avg_disc_accuracy}\")\n",
        "\n",
        "    if epoch % IMAGE_SAVE_INTERVAL == 0:\n",
        "        generateTrainingImages(generator, epoch, test_input)\n",
        "\n",
        "    pbar.set_description(f\"Epoch {epoch+1}, Avg Gen Loss: {avg_gen_loss}, Avg Disc Loss: {avg_disc_loss}\")\n"
      ]
    },
    {
      "cell_type": "code",
      "execution_count": null,
      "metadata": {
        "id": "hTKQopU0JJ5b"
      },
      "outputs": [],
      "source": [
        "import time\n",
        "from IPython import display\n",
        "from PIL import Image\n",
        "import glob\n",
        "\n",
        "image_path = '/content/drive/MyDrive/MRIALZ_DCGAN/images/20epochbaseline/'\n",
        "\n",
        "image_list = sorted(glob.glob(f\"{image_path}/*.png\"))\n",
        "\n",
        "for image_filename in image_list:\n",
        "    display.display(Image.open(image_filename))\n",
        "    time.sleep(.4)  # show each image for 1 second\n",
        "    display.clear_output(wait=True)\n"
      ]
    },
    {
      "cell_type": "code",
      "execution_count": null,
      "metadata": {
        "id": "ToiwODhPsl1k"
      },
      "outputs": [],
      "source": [
        "import time\n",
        "from IPython import display\n",
        "from PIL import Image\n",
        "import glob\n",
        "\n",
        "image_path = '/content/drive/MyDrive/MRIALZ_DCGAN/images/residualBlocks1stRun/'\n",
        "\n",
        "image_list = sorted(glob.glob(f\"{image_path}/*.png\"))\n",
        "\n",
        "for image_filename in image_list:\n",
        "    display.display(Image.open(image_filename))\n",
        "    time.sleep(.4)  # show each image for 1 second\n",
        "    display.clear_output(wait=True)\n"
      ]
    },
    {
      "cell_type": "code",
      "execution_count": null,
      "metadata": {
        "colab": {
          "base_uri": "https://localhost:8080/",
          "height": 340
        },
        "id": "XLqeBQWBx_KV",
        "outputId": "f6a0bbb7-c78f-40a7-8703-580c53c4e07c"
      },
      "outputs": [
        {
          "output_type": "display_data",
          "data": {
            "text/plain": [
              "<PIL.PngImagePlugin.PngImageFile image mode=RGBA size=400x400>"
            ],
            "image/png": "[encoded data removed]"
          },
          "metadata": {}
        }
      ],
      "source": [
        "import time\n",
        "from IPython import display\n",
        "from PIL import Image\n",
        "import glob\n",
        "\n",
        "image_path = '/content/drive/MyDrive/MRIALZ_DCGAN/images/baseline_2023-11-02_01-42-38/'\n",
        "\n",
        "image_list = sorted(glob.glob(f\"{image_path}/*.png\"))\n",
        "\n",
        "for image_filename in image_list:\n",
        "    display.display(Image.open(image_filename))\n",
        "    time.sleep(.4)  # show each image for 1 second\n",
        "    display.clear_output(wait=True)"
      ]
    }
  ],
  "metadata": {
    "accelerator": "GPU",
    "colab": {
      "machine_shape": "hm",
      "provenance": [],
      "mount_file_id": "1fKY4xw72X4EsQFzQK7ru4Qz5LEqpUoOD",
      "authorship_tag": "ABX9TyNNEzuy89l0gaqD2FM3kDg+",
      "include_colab_link": true
    },
    "kernelspec": {
      "display_name": "Python 3",
      "name": "python3"
    },
    "language_info": {
      "name": "python"
    },
    "widgets": {
      "application/vnd.jupyter.widget-state+json": {
        "3d063af741a744769b0fc321d7e24b4b": {
          "model_module": "@jupyter-widgets/base",
          "model_module_version": "1.2.0",
          "model_name": "LayoutModel",
          "state": {
            "_model_module": "@jupyter-widgets/base",
            "_model_module_version": "1.2.0",
            "_model_name": "LayoutModel",
            "_view_count": null,
            "_view_module": "@jupyter-widgets/base",
            "_view_module_version": "1.2.0",
            "_view_name": "LayoutView",
            "align_content": null,
            "align_items": null,
            "align_self": null,
            "border": null,
            "bottom": null,
            "display": null,
            "flex": null,
            "flex_flow": null,
            "grid_area": null,
            "grid_auto_columns": null,
            "grid_auto_flow": null,
            "grid_auto_rows": null,
            "grid_column": null,
            "grid_gap": null,
            "grid_row": null,
            "grid_template_areas": null,
            "grid_template_columns": null,
            "grid_template_rows": null,
            "height": null,
            "justify_content": null,
            "justify_items": null,
            "left": null,
            "margin": null,
            "max_height": null,
            "max_width": null,
            "min_height": null,
            "min_width": null,
            "object_fit": null,
            "object_position": null,
            "order": null,
            "overflow": null,
            "overflow_x": null,
            "overflow_y": null,
            "padding": null,
            "right": null,
            "top": null,
            "visibility": null,
            "width": null
          }
        },
        "74805fd756b24a5e8e656cd5e39de4bf": {
          "model_module": "@jupyter-widgets/controls",
          "model_module_version": "1.5.0",
          "model_name": "VBoxModel",
          "state": {
            "_dom_classes": [],
            "_model_module": "@jupyter-widgets/controls",
            "_model_module_version": "1.5.0",
            "_model_name": "VBoxModel",
            "_view_count": null,
            "_view_module": "@jupyter-widgets/controls",
            "_view_module_version": "1.5.0",
            "_view_name": "VBoxView",
            "box_style": "",
            "children": [
              "IPY_MODEL_b63491d5e85045988a618c2b59084dad",
              "IPY_MODEL_c4cf11de89c047fba71ade3e26d07e3e"
            ],
            "layout": "IPY_MODEL_fa834ec6fc0148e895c8e139c4f696d3"
          }
        },
        "b63491d5e85045988a618c2b59084dad": {
          "model_module": "@jupyter-widgets/controls",
          "model_module_version": "1.5.0",
          "model_name": "LabelModel",
          "state": {
            "_dom_classes": [],
            "_model_module": "@jupyter-widgets/controls",
            "_model_module_version": "1.5.0",
            "_model_name": "LabelModel",
            "_view_count": null,
            "_view_module": "@jupyter-widgets/controls",
            "_view_module_version": "1.5.0",
            "_view_name": "LabelView",
            "description": "",
            "description_tooltip": null,
            "layout": "IPY_MODEL_dadb321bdedf4e94afa6f377fe6081f7",
            "placeholder": "​",
            "style": "IPY_MODEL_baceead9aa534fd59f4aae5bf68625ec",
            "value": "1.740 MB of 1.741 MB uploaded (0.000 MB deduped)\r"
          }
        },
        "baceead9aa534fd59f4aae5bf68625ec": {
          "model_module": "@jupyter-widgets/controls",
          "model_module_version": "1.5.0",
          "model_name": "DescriptionStyleModel",
          "state": {
            "_model_module": "@jupyter-widgets/controls",
            "_model_module_version": "1.5.0",
            "_model_name": "DescriptionStyleModel",
            "_view_count": null,
            "_view_module": "@jupyter-widgets/base",
            "_view_module_version": "1.2.0",
            "_view_name": "StyleView",
            "description_width": ""
          }
        },
        "c4cf11de89c047fba71ade3e26d07e3e": {
          "model_module": "@jupyter-widgets/controls",
          "model_module_version": "1.5.0",
          "model_name": "FloatProgressModel",
          "state": {
            "_dom_classes": [],
            "_model_module": "@jupyter-widgets/controls",
            "_model_module_version": "1.5.0",
            "_model_name": "FloatProgressModel",
            "_view_count": null,
            "_view_module": "@jupyter-widgets/controls",
            "_view_module_version": "1.5.0",
            "_view_name": "ProgressView",
            "bar_style": "",
            "description": "",
            "description_tooltip": null,
            "layout": "IPY_MODEL_3d063af741a744769b0fc321d7e24b4b",
            "max": 1,
            "min": 0,
            "orientation": "horizontal",
            "style": "IPY_MODEL_e9afb1dc8d67482f8a6f74dcc3e19150",
            "value": 0.9994133875799198
          }
        },
        "dadb321bdedf4e94afa6f377fe6081f7": {
          "model_module": "@jupyter-widgets/base",
          "model_module_version": "1.2.0",
          "model_name": "LayoutModel",
          "state": {
            "_model_module": "@jupyter-widgets/base",
            "_model_module_version": "1.2.0",
            "_model_name": "LayoutModel",
            "_view_count": null,
            "_view_module": "@jupyter-widgets/base",
            "_view_module_version": "1.2.0",
            "_view_name": "LayoutView",
            "align_content": null,
            "align_items": null,
            "align_self": null,
            "border": null,
            "bottom": null,
            "display": null,
            "flex": null,
            "flex_flow": null,
            "grid_area": null,
            "grid_auto_columns": null,
            "grid_auto_flow": null,
            "grid_auto_rows": null,
            "grid_column": null,
            "grid_gap": null,
            "grid_row": null,
            "grid_template_areas": null,
            "grid_template_columns": null,
            "grid_template_rows": null,
            "height": null,
            "justify_content": null,
            "justify_items": null,
            "left": null,
            "margin": null,
            "max_height": null,
            "max_width": null,
            "min_height": null,
            "min_width": null,
            "object_fit": null,
            "object_position": null,
            "order": null,
            "overflow": null,
            "overflow_x": null,
            "overflow_y": null,
            "padding": null,
            "right": null,
            "top": null,
            "visibility": null,
            "width": null
          }
        },
        "e9afb1dc8d67482f8a6f74dcc3e19150": {
          "model_module": "@jupyter-widgets/controls",
          "model_module_version": "1.5.0",
          "model_name": "ProgressStyleModel",
          "state": {
            "_model_module": "@jupyter-widgets/controls",
            "_model_module_version": "1.5.0",
            "_model_name": "ProgressStyleModel",
            "_view_count": null,
            "_view_module": "@jupyter-widgets/base",
            "_view_module_version": "1.2.0",
            "_view_name": "StyleView",
            "bar_color": null,
            "description_width": ""
          }
        },
        "fa834ec6fc0148e895c8e139c4f696d3": {
          "model_module": "@jupyter-widgets/base",
          "model_module_version": "1.2.0",
          "model_name": "LayoutModel",
          "state": {
            "_model_module": "@jupyter-widgets/base",
            "_model_module_version": "1.2.0",
            "_model_name": "LayoutModel",
            "_view_count": null,
            "_view_module": "@jupyter-widgets/base",
            "_view_module_version": "1.2.0",
            "_view_name": "LayoutView",
            "align_content": null,
            "align_items": null,
            "align_self": null,
            "border": null,
            "bottom": null,
            "display": null,
            "flex": null,
            "flex_flow": null,
            "grid_area": null,
            "grid_auto_columns": null,
            "grid_auto_flow": null,
            "grid_auto_rows": null,
            "grid_column": null,
            "grid_gap": null,
            "grid_row": null,
            "grid_template_areas": null,
            "grid_template_columns": null,
            "grid_template_rows": null,
            "height": null,
            "justify_content": null,
            "justify_items": null,
            "left": null,
            "margin": null,
            "max_height": null,
            "max_width": null,
            "min_height": null,
            "min_width": null,
            "object_fit": null,
            "object_position": null,
            "order": null,
            "overflow": null,
            "overflow_x": null,
            "overflow_y": null,
            "padding": null,
            "right": null,
            "top": null,
            "visibility": null,
            "width": null
          }
        }
      }
    }
  },
  "nbformat": 4,
  "nbformat_minor": 0
}